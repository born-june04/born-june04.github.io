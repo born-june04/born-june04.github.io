{
 "cells": [
  {
   "cell_type": "markdown",
   "metadata": {
    "id": "0id391jNEHTy"
   },
   "source": [
    "# Import libraries"
   ]
  },
  {
   "cell_type": "code",
   "execution_count": null,
   "metadata": {
    "executionInfo": {
     "elapsed": 4589,
     "status": "ok",
     "timestamp": 1667410355728,
     "user": {
      "displayName": "Jaeseung Kim (성령)",
      "userId": "18232645392761887268"
     },
     "user_tz": -540
    },
    "id": "8nshZn4pEHTz"
   },
   "outputs": [],
   "source": [
    "import os\n",
    "import cv2\n",
    "import json\n",
    "import time\n",
    "from tqdm import tqdm\n",
    "\n",
    "# basic DL tools\n",
    "import numpy as np\n",
    "import pandas as pd     # dataframe\n",
    "from matplotlib import pyplot as plt\n",
    "import matplotlib.patches as patches\n",
    "import seaborn as sns\n",
    "from PIL import Image\n",
    "\n",
    "# PyTorch\n",
    "import torch\n",
    "from torch import Tensor    # inference\n",
    "from torch.utils.data import DataLoader, Dataset\n",
    "from torchvision import transforms, models\n",
    "\n",
    "# for classification model\n",
    "from skimage import io\n",
    "from torch import nn, optim\n",
    "import torch.nn.functional as F\n",
    "from torch.utils.data import RandomSampler\n",
    "import torchvision.models as models     # torchvision에서 models import했는데 또?\n",
    "from torchvision.utils import make_grid\n",
    "from torchvision.datasets import ImageFolder\n",
    "from sklearn.metrics import precision_score, recall_score   # metrics\n",
    "\n",
    "# for regression model\n",
    "import torch.utils.data as data\n"
   ]
  },
  {
   "cell_type": "markdown",
   "metadata": {
    "id": "fSZNY-6dEHT0"
   },
   "source": [
    "# Set Directory"
   ]
  },
  {
   "cell_type": "code",
   "execution_count": null,
   "metadata": {
    "executionInfo": {
     "elapsed": 15,
     "status": "ok",
     "timestamp": 1667410383899,
     "user": {
      "displayName": "Jaeseung Kim (성령)",
      "userId": "18232645392761887268"
     },
     "user_tz": -540
    },
    "id": "cMuil-mnEHT0"
   },
   "outputs": [],
   "source": [
    "train_dir = os.getcwd() + '/DatasetD84/Training'    \n",
    "valid_dir = os.getcwd() + '/DatasetD84/Validation'    \n",
    "test_dir = os.getcwd() + '/DatasetD84/Test'    \n",
    "\n",
    "# root_dir = '/home/bmegpu01/DatasetD841/Training'"
   ]
  },
  {
   "cell_type": "markdown",
   "metadata": {
    "id": "Uu7goKySEHT0"
   },
   "source": [
    "# Metrics"
   ]
  },
  {
   "cell_type": "code",
   "execution_count": null,
   "metadata": {
    "executionInfo": {
     "elapsed": 14,
     "status": "ok",
     "timestamp": 1667410383899,
     "user": {
      "displayName": "Jaeseung Kim (성령)",
      "userId": "18232645392761887268"
     },
     "user_tz": -540
    },
    "id": "I2qdxM0WEHT0"
   },
   "outputs": [],
   "source": [
    "def IoU(box1, box2):\n",
    "    # box = (x1, y1, x2, y2)\n",
    "    # box = (x, y, w, h)\n",
    "#     print(box1.shape, box2.shape)\n",
    "\n",
    "    box1_area = (box1[2]*box1[3])\n",
    "    box2_area = (box2[2]*box2[3])\n",
    "    box_1 = [box1[0], box1[1], box1[0]+box1[2], box1[1]+box1[3]]\n",
    "    box_2 = [box2[0], box2[1], box2[0]+box2[2], box2[1]+box2[3]]\n",
    "\n",
    "    # obtain x1, y1, x2, y2 of the intersection\n",
    "    x1 = max(box_1[0], box_2[0])\n",
    "    y1 = max(box_1[1], box_2[1])\n",
    "    x2 = min(box_1[2], box_2[2])\n",
    "    y2 = min(box_1[3], box_2[3])\n",
    "\n",
    "    # compute the width and height of the intersection\n",
    "    w = max(0, x2 - x1 + 1)\n",
    "    h = max(0, y2 - y1 + 1)\n",
    "\n",
    "    inter = w * h\n",
    "    iou = inter / (box1_area + box2_area - inter)\n",
    "    return iou\n",
    "\n",
    "def batch_IoU(y_hat, y, images):\n",
    "    score = []\n",
    "    num_batch = y_hat.shape[0]\n",
    "    for num in range(num_batch):\n",
    "        c, width, height = images[num].shape\n",
    "        scale = torch.tensor([width, height, width, height])\n",
    "        y_hat = y_hat * scale\n",
    "        y = y * scale\n",
    "        score.append(IoU(y_hat[num], y[num]))\n",
    "    return score"
   ]
  },
  {
   "cell_type": "code",
   "execution_count": null,
   "metadata": {
    "executionInfo": {
     "elapsed": 13,
     "status": "ok",
     "timestamp": 1667410383899,
     "user": {
      "displayName": "Jaeseung Kim (성령)",
      "userId": "18232645392761887268"
     },
     "user_tz": -540
    },
    "id": "SQ6npjPqEHT0"
   },
   "outputs": [],
   "source": [
    "# for classification\n",
    "def calc_accuracy(true,pred):\n",
    "    pred = F.softmax(pred, dim = 1)\n",
    "    true = torch.zeros(pred.shape[0], pred.shape[1]).scatter_(1, true.unsqueeze(1), 1.)\n",
    "    acc = (true.argmax(-1) == pred.argmax(-1)).float().detach().numpy()\n",
    "    acc = float((100 * acc.sum()) / len(acc))\n",
    "    return round(acc, 4)"
   ]
  },
  {
   "cell_type": "code",
   "execution_count": null,
   "metadata": {
    "executionInfo": {
     "elapsed": 2,
     "status": "ok",
     "timestamp": 1667418018828,
     "user": {
      "displayName": "Jaeseung Kim (성령)",
      "userId": "18232645392761887268"
     },
     "user_tz": -540
    },
    "id": "wc8WAYepEHT0"
   },
   "outputs": [],
   "source": [
    "# for classification\n",
    "def rp_for_class(y_pre, y_true):\n",
    "    y_pre_fclass = [[],[],[],[],[]]\n",
    "    y_true_fclass = [[],[],[],[],[]]\n",
    "    \n",
    "    for i in range(len(y_true)):\n",
    "        for num in range(5):\n",
    "            if y_true[i] == num:\n",
    "                y_pre_fclass[num].append(y_pre[i])\n",
    "                y_true_fclass[num].append((y_true[i]))\n",
    "            \n",
    "    return y_pre_fclass, y_true_fclass"
   ]
  },
  {
   "cell_type": "markdown",
   "metadata": {
    "id": "y0AsDY9EEHT1"
   },
   "source": [
    "# Regression"
   ]
  },
  {
   "cell_type": "markdown",
   "metadata": {
    "id": "mV10r-vZEHT1"
   },
   "source": [
    "### regression training preset"
   ]
  },
  {
   "cell_type": "code",
   "execution_count": null,
   "metadata": {
    "colab": {
     "base_uri": "https://localhost:8080/",
     "height": 161,
     "referenced_widgets": [
      "fa0611ffd6ac447e993c8d0695a255d3",
      "94f65da770cc43958760571158e467f7",
      "e0d3d0676cc04af2a0f437693ac841e8",
      "5cb7fbd5759a445aa36cbf2f2d22d3d0",
      "0207410e4270418ab6f9d465ca33331c",
      "385cf41e5842474982e9552ee6444c2e",
      "0d5d18b125f0436c9dc05d3b37f22c1c",
      "89e9dcdf06fc410cb681f0c20992f373",
      "f7d9915018a34a33bbe3de41bdf092d0",
      "64703debe3664680abdacf1c0c34f2c6",
      "3d170e40c6a3453a9aebc75a0f6821b0"
     ]
    },
    "executionInfo": {
     "elapsed": 4583,
     "status": "ok",
     "timestamp": 1667410388469,
     "user": {
      "displayName": "Jaeseung Kim (성령)",
      "userId": "18232645392761887268"
     },
     "user_tz": -540
    },
    "id": "otYXhFTFEHT1",
    "outputId": "a86b8da0-f4f6-4d6d-bc2e-7883d37b2aaa",
    "scrolled": true
   },
   "outputs": [],
   "source": [
    "device = torch.device(\"cuda:0\" if torch.cuda.is_available() else \"cpu\")\n",
    "reg_model = models.resnet34(pretrained=True)\n",
    "reg_model.fc = torch.nn.Linear(512,4)\n",
    "reg_model = reg_model.to(device)"
   ]
  },
  {
   "cell_type": "code",
   "execution_count": null,
   "metadata": {
    "executionInfo": {
     "elapsed": 3,
     "status": "ok",
     "timestamp": 1667410388469,
     "user": {
      "displayName": "Jaeseung Kim (성령)",
      "userId": "18232645392761887268"
     },
     "user_tz": -540
    },
    "id": "B_uf0VhwEHT1"
   },
   "outputs": [],
   "source": [
    "#parameter\n",
    "\n",
    "max_iterations =  512\n",
    "eval_num = 32\n",
    "\n",
    "loss_function = torch.nn.HuberLoss(reduction='mean', delta=1.0)\n",
    "optimizer = torch.optim.Adam(reg_model.parameters(), \n",
    "                            lr=3e-3)\n",
    "\n",
    "global_step = 0\n",
    "dice_val_best = 0.0\n",
    "global_step_best = 0\n",
    "epoch_loss_values = []\n",
    "metric_values = []"
   ]
  },
  {
   "cell_type": "markdown",
   "metadata": {
    "id": "x4-phjHUEHT1"
   },
   "source": [
    "### Regression dataset"
   ]
  },
  {
   "cell_type": "code",
   "execution_count": null,
   "metadata": {
    "executionInfo": {
     "elapsed": 3,
     "status": "ok",
     "timestamp": 1667410388469,
     "user": {
      "displayName": "Jaeseung Kim (성령)",
      "userId": "18232645392761887268"
     },
     "user_tz": -540
    },
    "id": "i55Is1GJEHT1"
   },
   "outputs": [],
   "source": [
    "class BurnDataset(Dataset):\n",
    "    def __init__(self, root_dir, transform = None):\n",
    "        super().__init__()\n",
    "        \n",
    "        self.root_dir = root_dir\n",
    "        self.img_root_dir = root_dir+'/jpg'\n",
    "        self.img_flist = []\n",
    "        \n",
    "        self.class_name = [x for x in os.listdir(self.img_root_dir) if not x.startswith('@') and not x.startswith('.') and not x.startswith('(')]\n",
    "\n",
    "        self.transform = transform\n",
    "        \n",
    "        for c in self.class_name:\n",
    "            imgls = os.listdir(os.path.join(self.img_root_dir,c))\n",
    "            imgls = [os.path.join(self.img_root_dir,c,x) for x in imgls if x.endswith('.jpg')]\n",
    "            self.img_flist.extend(imgls)\n",
    "        \n",
    "    def __len__(self):\n",
    "        return len(self.img_flist)\n",
    "        \n",
    "    def __getitem__(self, idx):\n",
    "        \n",
    "        imgpth = self.img_flist[idx]\n",
    "        jsonpth = self.img_flist[idx].replace('jpg', 'json')\n",
    "        \n",
    "#         print(jsonpth)\n",
    "        # image\n",
    "#         np_img = np.fromfile(imgpth, np.uint8)\n",
    "#         image = cv2.imdecode(np_img, cv2.IMREAD_COLOR).astype(np.float32)\n",
    "#         image = image.transpose(2, 0, 1)\n",
    "        \n",
    "        with open(imgpth, 'rb') as f:\n",
    "            image = Image.open(f).convert('RGB')\n",
    "            x_, y_ = image.size\n",
    "        if self.transform:\n",
    "            image = self.transform(image)\n",
    "        \n",
    "        #bbox\n",
    "        with open (jsonpth, \"r\") as f:\n",
    "            data = json.load(f)\n",
    "            \n",
    "        labels = torch.LongTensor([int(list(data['annotations'].keys())[0])])\n",
    "        stage_id = list(data['annotations'].keys())[0]\n",
    "        boxes = data['annotations'][stage_id]['bbox']\n",
    "        \n",
    "        c, width, height = image.shape\n",
    "        \n",
    "        x = boxes[0]/width\n",
    "        y = boxes[1]/height\n",
    "        \n",
    "        w = boxes[2]/width\n",
    "        h = boxes[3]/height\n",
    "        \n",
    "#         x = boxes[0][0]/width\n",
    "#         y = boxes[0][1]/height\n",
    "        \n",
    "#         w = boxes[0][2]/width\n",
    "#         h = boxes[0][3]/height\n",
    "        \n",
    "        bbox = torch.FloatTensor([x, y, w, h])\n",
    "\n",
    "\n",
    "        return image, bbox, labels\n",
    "        "
   ]
  },
  {
   "cell_type": "code",
   "execution_count": null,
   "metadata": {
    "colab": {
     "base_uri": "https://localhost:8080/"
    },
    "executionInfo": {
     "elapsed": 13134,
     "status": "ok",
     "timestamp": 1667410401601,
     "user": {
      "displayName": "Jaeseung Kim (성령)",
      "userId": "18232645392761887268"
     },
     "user_tz": -540
    },
    "id": "H-qxUFP_EHT2",
    "outputId": "de592ed8-aab9-4223-99ef-834b31edb644"
   },
   "outputs": [],
   "source": [
    "from torchvision import transforms, models\n",
    "\n",
    "tr_transform = transforms.Compose([\n",
    "    transforms.Resize((256, 256)),\n",
    "    transforms.ToTensor(),\n",
    "])\n",
    "val_transform = transforms.Compose([\n",
    "    transforms.Resize((256, 256)),\n",
    "    transforms.ToTensor(),\n",
    "])\n",
    "ts_transform = transforms.Compose([\n",
    "    transforms.Resize((256, 256)),\n",
    "    transforms.ToTensor(),\n",
    "])\n",
    "\n",
    "train_set = BurnDataset(train_dir, transform = tr_transform)\n",
    "train_loader = DataLoader(train_set,\n",
    "                              batch_size=32,\n",
    "                              shuffle=True,\n",
    "                              num_workers=24,\n",
    "                              pin_memory=True)\n",
    "\n",
    "val_set = BurnDataset(valid_dir, transform = val_transform)\n",
    "valid_loader = DataLoader(val_set,\n",
    "                          batch_size=1,\n",
    "                          shuffle=False,\n",
    "                          num_workers=24,\n",
    "                          pin_memory=True)\n",
    "\n",
    "test_set = BurnDataset(test_dir, transform = ts_transform) # 수정 부분\n",
    "test_loader = DataLoader(test_set,\n",
    "                        batch_size=1,\n",
    "                        shuffle=False,\n",
    "                        num_workers=24,\n",
    "                        pin_memory=True)\n"
   ]
  },
  {
   "cell_type": "markdown",
   "metadata": {
    "id": "LxHiSZdzEHT2"
   },
   "source": [
    "### regression train"
   ]
  },
  {
   "cell_type": "code",
   "execution_count": null,
   "metadata": {
    "executionInfo": {
     "elapsed": 4,
     "status": "ok",
     "timestamp": 1667410401601,
     "user": {
      "displayName": "Jaeseung Kim (성령)",
      "userId": "18232645392761887268"
     },
     "user_tz": -540
    },
    "id": "WbfsbSn8EHT2"
   },
   "outputs": [],
   "source": [
    "def train(model, global_step, train_loader, dice_val_best, global_step_best):\n",
    "    model.train()\n",
    "    epoch_loss = 0\n",
    "    step = 0\n",
    "    epoch_iterator = tqdm(\n",
    "        train_loader, desc=\"Training (X / X Steps) (loss=X.X)\", dynamic_ncols=True\n",
    "    )\n",
    "    for step, (images, boxes, labels) in enumerate(epoch_iterator):\n",
    "        step += 1\n",
    "        images = images.to(device)\n",
    "        boxes = boxes.to(device)\n",
    "        labels = labels.to(device)\n",
    "                \n",
    "        out_bb = model(images)\n",
    "        \n",
    "        loss = loss_function(out_bb, boxes)\n",
    "        loss.backward()\n",
    "        epoch_loss += loss.item()\n",
    "        \n",
    "        optimizer.step()\n",
    "        optimizer.zero_grad()\n",
    "        \n",
    "        epoch_iterator.set_description(\n",
    "            \"Training (%d / %d Steps) (loss=%2.5f)\" % (global_step, max_iterations, epoch_loss/step)\n",
    "        )\n",
    "        \n",
    "    if global_step % eval_num == 0 or global_step == max_iterations:\n",
    "        epoch_iterator_val = tqdm(\n",
    "            valid_loader, desc=\"Validate (X / X Steps) (IoU=X.X)\", dynamic_ncols=True\n",
    "        )\n",
    "        dice_val = validation(model, epoch_iterator_val)\n",
    "        epoch_loss /= step\n",
    "        epoch_loss_values.append(epoch_loss)\n",
    "        metric_values.append(dice_val)\n",
    "        plt.subplot(121)\n",
    "        plt.plot(epoch_loss_values)\n",
    "        plt.title(f'step #: {global_step}')\n",
    "        plt.subplot(122)\n",
    "        plt.plot(metric_values)\n",
    "        plt.show()\n",
    "\n",
    "        if dice_val > dice_val_best:\n",
    "            dice_val_best = dice_val\n",
    "            global_step_best = global_step\n",
    "            torch.save(\n",
    "                model.state_dict(), os.path.join( f\"tmp_best_regression_aug_cv.pth\")\n",
    "            )\n",
    "            print(\n",
    "                \"Model Was Saved ! Current Best Avg. IoU: {} Current Avg. IoU: {}\".format(\n",
    "                    dice_val_best, dice_val\n",
    "                )\n",
    "            )\n",
    "        else:\n",
    "            print(\n",
    "                \"Model Was Not Saved ! Current Best Avg. IoU: {} Current Avg. IoU: {}\".format(\n",
    "                    dice_val_best, dice_val\n",
    "                )\n",
    "            )\n",
    "    \n",
    "    global_step += 1\n",
    "\n",
    "#     scheduler.step()\n",
    "\n",
    "    return global_step, dice_val_best, global_step_best"
   ]
  },
  {
   "cell_type": "markdown",
   "metadata": {
    "id": "OU4jfErtEHT2"
   },
   "source": [
    "### regression Validation"
   ]
  },
  {
   "cell_type": "code",
   "execution_count": null,
   "metadata": {
    "executionInfo": {
     "elapsed": 3,
     "status": "ok",
     "timestamp": 1667410401601,
     "user": {
      "displayName": "Jaeseung Kim (성령)",
      "userId": "18232645392761887268"
     },
     "user_tz": -540
    },
    "id": "6ylo_PNeEHT2"
   },
   "outputs": [],
   "source": [
    "def validation(model, epoch_iterator_val):\n",
    "    model.eval()\n",
    "    dice_vals = list()\n",
    "    with torch.no_grad():\n",
    "        for step, (images, boxes, labels) in enumerate(epoch_iterator_val):\n",
    "            step += 1\n",
    "            val_images = images.to(device)\n",
    "            val_boxes = boxes.to(device)\n",
    "            val_labels =  labels.to(device)\n",
    "\n",
    "            val_out_bb = model(val_images)    \n",
    "            val_loss = loss_function(val_out_bb, val_boxes)\n",
    "            \n",
    "#             print(val_boxes, val_out_bb)\n",
    "            \n",
    "            # acc value\n",
    "            # def iou            \n",
    "            iou_acc = batch_IoU(val_boxes.cpu(), val_out_bb.detach().cpu(), val_images.detach().cpu())\n",
    "            dice_vals.append(iou_acc)\n",
    "            epoch_iterator_val.set_description(\n",
    "                \"Validate (%d / %d Steps) (IoU=%2.5f)\" % (global_step, max_iterations, np.mean(iou_acc))\n",
    "            )\n",
    "                  \n",
    "    mean_dice_val = np.mean(dice_vals)\n",
    "    return mean_dice_val"
   ]
  },
  {
   "cell_type": "markdown",
   "metadata": {
    "id": "3jLiTzPjEHT2"
   },
   "source": [
    "### regression training"
   ]
  },
  {
   "cell_type": "code",
   "execution_count": null,
   "metadata": {
    "colab": {
     "base_uri": "https://localhost:8080/",
     "height": 1000
    },
    "executionInfo": {
     "elapsed": 759596,
     "status": "ok",
     "timestamp": 1667411161194,
     "user": {
      "displayName": "Jaeseung Kim (성령)",
      "userId": "18232645392761887268"
     },
     "user_tz": -540
    },
    "id": "dLf_g7MDEHT3",
    "outputId": "55fea222-d932-4b2c-d06b-a3c230d1dd22",
    "scrolled": true
   },
   "outputs": [],
   "source": [
    "while global_step < max_iterations:\n",
    "    global_step, dice_val_best, global_step_best = train(\n",
    "        reg_model, global_step, train_loader, dice_val_best, global_step_best\n",
    "    )"
   ]
  },
  {
   "cell_type": "code",
   "execution_count": null,
   "metadata": {
    "colab": {
     "base_uri": "https://localhost:8080/",
     "height": 1000
    },
    "executionInfo": {
     "elapsed": 472234,
     "status": "ok",
     "timestamp": 1667411633423,
     "user": {
      "displayName": "Jaeseung Kim (성령)",
      "userId": "18232645392761887268"
     },
     "user_tz": -540
    },
    "id": "q2fduhrQEHT3",
    "outputId": "ad8d033f-a3c5-4df7-fd3e-9b0c2e941687"
   },
   "outputs": [],
   "source": [
    "optimizer = torch.optim.Adam(reg_model.parameters(), \n",
    "                             lr=(5e-3)*0.8)\n",
    "\n",
    "while global_step < 2*max_iterations:\n",
    "    global_step, dice_val_best, global_step_best = train(\n",
    "        reg_model, global_step, train_loader, dice_val_best, global_step_best\n",
    "    )"
   ]
  },
  {
   "cell_type": "code",
   "execution_count": null,
   "metadata": {
    "colab": {
     "base_uri": "https://localhost:8080/",
     "height": 1000
    },
    "executionInfo": {
     "elapsed": 946895,
     "status": "ok",
     "timestamp": 1667412580314,
     "user": {
      "displayName": "Jaeseung Kim (성령)",
      "userId": "18232645392761887268"
     },
     "user_tz": -540
    },
    "id": "7MoIa9IYEHT3",
    "outputId": "8e47233f-d712-4bfe-b8e1-8fd24faa2d25"
   },
   "outputs": [],
   "source": [
    "optimizer = torch.optim.Adam(reg_model.parameters(), \n",
    "                             lr=(5e-3)*0.8*0.8)\n",
    "\n",
    "while global_step < 4*max_iterations:\n",
    "    global_step, dice_val_best, global_step_best = train(\n",
    "        reg_model, global_step, train_loader, dice_val_best, global_step_best\n",
    "    )"
   ]
  },
  {
   "cell_type": "code",
   "execution_count": null,
   "metadata": {
    "colab": {
     "base_uri": "https://localhost:8080/",
     "height": 1000
    },
    "executionInfo": {
     "elapsed": 948264,
     "status": "ok",
     "timestamp": 1667413528575,
     "user": {
      "displayName": "Jaeseung Kim (성령)",
      "userId": "18232645392761887268"
     },
     "user_tz": -540
    },
    "id": "wRDcrLidEHT3",
    "outputId": "c9b4fca6-fb38-49b4-c4c1-8700aee681e2"
   },
   "outputs": [],
   "source": [
    "optimizer = torch.optim.Adam(reg_model.parameters(), \n",
    "                             lr=(5e-3)*0.8*0.8*0.8)\n",
    "\n",
    "while global_step < 6*max_iterations:\n",
    "    global_step, dice_val_best, global_step_best = train(\n",
    "        reg_model, global_step, train_loader, dice_val_best, global_step_best\n",
    "    )"
   ]
  },
  {
   "cell_type": "markdown",
   "metadata": {
    "id": "yzTVkwl4EHT3"
   },
   "source": [
    "# Classification"
   ]
  },
  {
   "cell_type": "markdown",
   "metadata": {
    "id": "KLA9jHlNEHT3"
   },
   "source": [
    "### classification training preset"
   ]
  },
  {
   "cell_type": "code",
   "execution_count": null,
   "metadata": {
    "executionInfo": {
     "elapsed": 11,
     "status": "ok",
     "timestamp": 1667413528575,
     "user": {
      "displayName": "Jaeseung Kim (성령)",
      "userId": "18232645392761887268"
     },
     "user_tz": -540
    },
    "id": "6V1dkI9-EHT3"
   },
   "outputs": [],
   "source": [
    "device = torch.device('cuda:0') if torch.cuda.is_available() else torch.device('cpu')\n",
    "\n",
    "cls_model = models.resnet34()\n",
    "cls_model.fc = torch.nn.Linear(512,5)\n",
    "cls_model = cls_model.to(device)"
   ]
  },
  {
   "cell_type": "code",
   "execution_count": null,
   "metadata": {
    "executionInfo": {
     "elapsed": 11,
     "status": "ok",
     "timestamp": 1667413528575,
     "user": {
      "displayName": "Jaeseung Kim (성령)",
      "userId": "18232645392761887268"
     },
     "user_tz": -540
    },
    "id": "BRZZEl1nEHT3"
   },
   "outputs": [],
   "source": [
    "optimizer = torch.optim.Adam(cls_model.parameters(), lr = 5e-3)\n",
    "lr_scheduler = torch.optim.lr_scheduler.StepLR(optimizer, step_size = 5, gamma = 0.75)\n",
    "criterion = nn.CrossEntropyLoss()"
   ]
  },
  {
   "cell_type": "code",
   "execution_count": null,
   "metadata": {
    "executionInfo": {
     "elapsed": 11,
     "status": "ok",
     "timestamp": 1667413528576,
     "user": {
      "displayName": "Jaeseung Kim (성령)",
      "userId": "18232645392761887268"
     },
     "user_tz": -540
    },
    "id": "iucAGpFoEHT4"
   },
   "outputs": [],
   "source": [
    "max_iterations = 512\n",
    "eval_num = 32\n",
    "\n",
    "global_step = 0\n",
    "dice_val_best = 0.0\n",
    "global_step_best = 0\n",
    "epoch_loss_values = []\n",
    "metric_values = []\n"
   ]
  },
  {
   "cell_type": "markdown",
   "metadata": {
    "id": "747HpmdDEHT4"
   },
   "source": [
    "### classification loader"
   ]
  },
  {
   "cell_type": "code",
   "execution_count": null,
   "metadata": {
    "executionInfo": {
     "elapsed": 11,
     "status": "ok",
     "timestamp": 1667413528576,
     "user": {
      "displayName": "Jaeseung Kim (성령)",
      "userId": "18232645392761887268"
     },
     "user_tz": -540
    },
    "id": "4sN2fAD0EHT4"
   },
   "outputs": [],
   "source": [
    "from torchvision import transforms\n",
    "\n",
    "tr_transforms = transforms.Compose([\n",
    "    transforms.Resize((256, 256)),\n",
    "    transforms.ToTensor(),\n",
    "])\n",
    "val_transforms = transforms.Compose([\n",
    "    transforms.Resize((256, 256)),\n",
    "    transforms.ToTensor(),\n",
    "])\n",
    "ts_transforms = transforms.Compose([\n",
    "    transforms.Resize((256, 256)),\n",
    "    transforms.ToTensor(),\n",
    "])\n",
    "\n",
    "# root_dir = os.getcwd() + '/drive/MyDrive/DatasetD84/'\n",
    "\n",
    "train_set = BurnDataset(root_dir + 'Training', transform= tr_transforms)\n",
    "train_loader = DataLoader(train_set,\n",
    "                              batch_size=32,\n",
    "                              shuffle=True,\n",
    "                              num_workers=24,\n",
    "                              pin_memory=True)\n",
    "\n",
    "valid_set = BurnDataset(root_dir + 'Validation', transform= val_transforms)\n",
    "valid_loader = DataLoader(valid_set,\n",
    "                          batch_size=1,\n",
    "                          shuffle=False,\n",
    "                          num_workers=24,\n",
    "                          pin_memory = True)\n",
    "\n",
    "\n",
    "test_set = BurnDataset(root_dir + 'Test', transform = ts_transforms)\n",
    "test_loader = DataLoader(test_set,\n",
    "                        batch_size=1,\n",
    "                        shuffle=False,\n",
    "                        num_workers=24,\n",
    "                        pin_memory=True)"
   ]
  },
  {
   "cell_type": "markdown",
   "metadata": {
    "id": "r7wG-R7IEHT4"
   },
   "source": [
    "### classification train def"
   ]
  },
  {
   "cell_type": "code",
   "execution_count": null,
   "metadata": {
    "executionInfo": {
     "elapsed": 10,
     "status": "ok",
     "timestamp": 1667413528576,
     "user": {
      "displayName": "Jaeseung Kim (성령)",
      "userId": "18232645392761887268"
     },
     "user_tz": -540
    },
    "id": "SI1DrgLTEHT4"
   },
   "outputs": [],
   "source": [
    "def train(model, global_step, train_loader, dice_val_best, global_step_best):\n",
    "    model.train()\n",
    "    epoch_loss = 0\n",
    "    step = 0\n",
    "    epoch_iterator = tqdm(\n",
    "        train_loader, desc=\"Training (X / X Steps) (loss=X.X)\", dynamic_ncols=True\n",
    "    )\n",
    "    for step, (images, boxes, labels) in enumerate(epoch_iterator):\n",
    "        step += 1\n",
    "        images = images.to(device)\n",
    "#         boxes = boxes[0].to(device)\n",
    "        labels = labels.to(device)\n",
    "                \n",
    "        out = cls_model(images)\n",
    "        labels = labels.squeeze(dim=-1)\n",
    "#         print(labels)\n",
    "        \n",
    "        loss = criterion(out, labels)\n",
    "        loss.backward()\n",
    "        epoch_loss += loss.item()\n",
    "        \n",
    "        optimizer.step()\n",
    "        optimizer.zero_grad()\n",
    "        \n",
    "        epoch_iterator.set_description(\n",
    "            \"Training (%d / %d Steps) (loss=%2.5f)\" % (global_step, max_iterations, loss)\n",
    "        )\n",
    "    if global_step % eval_num == 0 or global_step == max_iterations:\n",
    "        epoch_iterator_val = tqdm(\n",
    "            valid_loader, desc=\"Validate (X / X Steps) (loss=X.X)\", dynamic_ncols=True\n",
    "        )\n",
    "        dice_val = validation(cls_model, epoch_iterator_val)\n",
    "        epoch_loss /= step\n",
    "        epoch_loss_values.append(epoch_loss)\n",
    "        metric_values.append(dice_val)\n",
    "        plt.subplot(121)\n",
    "        plt.plot(epoch_loss_values)\n",
    "        plt.title(f'step #: {global_step}')\n",
    "        plt.subplot(122)\n",
    "        plt.plot(metric_values)\n",
    "        plt.show()\n",
    "\n",
    "        if dice_val > dice_val_best:\n",
    "            dice_val_best = dice_val\n",
    "            global_step_best = global_step\n",
    "            torch.save(\n",
    "                cls_model.state_dict(), os.path.join( f\"tmp_best_classification_aug.pth\")\n",
    "            )\n",
    "            print(\n",
    "                \"Model Was Saved ! Current Best Avg. loss: {} Current Avg. loss: {}\".format(\n",
    "                    dice_val_best, dice_val\n",
    "                )\n",
    "            )\n",
    "        else:\n",
    "            print(\n",
    "                \"Model Was Not Saved ! Current Best Avg. loss: {} Current Avg. loss: {}\".format(\n",
    "                    dice_val_best, dice_val\n",
    "                )\n",
    "            )\n",
    "    global_step += 1\n",
    "\n",
    "#    scheduler.step()\n",
    "\n",
    "    return global_step, dice_val_best, global_step_best"
   ]
  },
  {
   "cell_type": "markdown",
   "metadata": {
    "id": "og6JkCEjEHT4"
   },
   "source": [
    "### classification validation def"
   ]
  },
  {
   "cell_type": "code",
   "execution_count": null,
   "metadata": {
    "executionInfo": {
     "elapsed": 10,
     "status": "ok",
     "timestamp": 1667413528576,
     "user": {
      "displayName": "Jaeseung Kim (성령)",
      "userId": "18232645392761887268"
     },
     "user_tz": -540
    },
    "id": "qhOOLoeYEHT4"
   },
   "outputs": [],
   "source": [
    "def validation(model, epoch_iterator_val):\n",
    "    model.eval()\n",
    "    dice_vals = list()\n",
    "    with torch.no_grad():\n",
    "        for step, (images, boxes, labels) in enumerate(epoch_iterator_val):\n",
    "            step += 1\n",
    "            val_images = images.to(device)\n",
    "            # val_boxes = boxes[0].to(device)\n",
    "            val_labels =  labels.to(device)\n",
    "            val_labels = val_labels.squeeze(dim=-1)\n",
    "            val_out = cls_model(val_images)    \n",
    "            val_loss = criterion(val_out, val_labels)\n",
    "            \n",
    "#             print(val_boxes, val_out_bb)\n",
    "            \n",
    "            # acc value\n",
    "            # def iou\n",
    "\n",
    "            acc_val = calc_accuracy(val_labels.cpu(), val_out.cpu())\n",
    "            dice_vals.append(acc_val)\n",
    "            \n",
    "            epoch_iterator_val.set_description(\n",
    "                    \"Validate (%d / %d Steps) (Acc=%2.5f)\" % (global_step, max_iterations, acc_val)\n",
    "                )   # 여기의 iou_acc는 어디서 나타난 것...?\n",
    "                \n",
    "    mean_dice_val = np.mean(dice_vals)\n",
    "    return mean_dice_val"
   ]
  },
  {
   "cell_type": "markdown",
   "metadata": {
    "id": "FnoW-VnvEHT4"
   },
   "source": [
    "### classification training"
   ]
  },
  {
   "cell_type": "code",
   "execution_count": null,
   "metadata": {
    "colab": {
     "base_uri": "https://localhost:8080/",
     "height": 1000
    },
    "executionInfo": {
     "elapsed": 477330,
     "status": "ok",
     "timestamp": 1667414005896,
     "user": {
      "displayName": "Jaeseung Kim (성령)",
      "userId": "18232645392761887268"
     },
     "user_tz": -540
    },
    "id": "n6EwHVw6EHT4",
    "outputId": "f7abed1a-4ed9-4248-bd97-245429bcd16d"
   },
   "outputs": [],
   "source": [
    "while global_step < max_iterations:\n",
    "    global_step, dice_val_best, global_step_best = train(\n",
    "        cls_model ,global_step, train_loader, dice_val_best, global_step_best\n",
    "    )"
   ]
  },
  {
   "cell_type": "code",
   "execution_count": null,
   "metadata": {
    "colab": {
     "base_uri": "https://localhost:8080/",
     "height": 1000
    },
    "executionInfo": {
     "elapsed": 474956,
     "status": "ok",
     "timestamp": 1667414480847,
     "user": {
      "displayName": "Jaeseung Kim (성령)",
      "userId": "18232645392761887268"
     },
     "user_tz": -540
    },
    "id": "tSg-ArAsEHT5",
    "outputId": "8ae41e9d-9e11-412f-f178-9d131eaffe8f",
    "scrolled": true
   },
   "outputs": [],
   "source": [
    "optimizer = torch.optim.Adam(cls_model.parameters(), \n",
    "                             lr=(5e-3)*0.8)\n",
    "\n",
    "while global_step < 2*max_iterations:\n",
    "    global_step, dice_val_best, global_step_best = train(\n",
    "        cls_model, global_step, train_loader, dice_val_best, global_step_best\n",
    "    )"
   ]
  },
  {
   "cell_type": "code",
   "execution_count": null,
   "metadata": {
    "colab": {
     "base_uri": "https://localhost:8080/",
     "height": 1000
    },
    "executionInfo": {
     "elapsed": 954275,
     "status": "ok",
     "timestamp": 1667415435115,
     "user": {
      "displayName": "Jaeseung Kim (성령)",
      "userId": "18232645392761887268"
     },
     "user_tz": -540
    },
    "id": "fZFomcSfEHT5",
    "outputId": "fe2225dc-ac8e-435f-d05c-f76bb820d211"
   },
   "outputs": [],
   "source": [
    "optimizer = torch.optim.Adam(cls_model.parameters(), \n",
    "                             lr=(5e-3)*0.8*0.8)\n",
    "\n",
    "while global_step < 4*max_iterations:\n",
    "    global_step, dice_val_best, global_step_best = train(\n",
    "         cls_model,global_step, train_loader, dice_val_best, global_step_best\n",
    "    )"
   ]
  },
  {
   "cell_type": "code",
   "execution_count": null,
   "metadata": {
    "colab": {
     "base_uri": "https://localhost:8080/",
     "height": 1000
    },
    "executionInfo": {
     "elapsed": 953514,
     "status": "ok",
     "timestamp": 1667416388612,
     "user": {
      "displayName": "Jaeseung Kim (성령)",
      "userId": "18232645392761887268"
     },
     "user_tz": -540
    },
    "id": "MOAb5_amEHT5",
    "outputId": "3a254d17-7aa5-4767-a480-af360236ad71"
   },
   "outputs": [],
   "source": [
    "optimizer = torch.optim.Adam(cls_model.parameters(), \n",
    "                             lr=(5e-3)*0.8*0.8*0.8)\n",
    "\n",
    "while global_step < 6*max_iterations:\n",
    "    global_step, dice_val_best, global_step_best = train(\n",
    "         cls_model,global_step, train_loader, dice_val_best, global_step_best\n",
    "    )"
   ]
  },
  {
   "cell_type": "markdown",
   "metadata": {
    "id": "cV4D-8kaEHT5"
   },
   "source": [
    "### classification Test"
   ]
  },
  {
   "cell_type": "code",
   "execution_count": null,
   "metadata": {
    "executionInfo": {
     "elapsed": 683,
     "status": "ok",
     "timestamp": 1667418042894,
     "user": {
      "displayName": "Jaeseung Kim (성령)",
      "userId": "18232645392761887268"
     },
     "user_tz": -540
    },
    "id": "1MOZH6deEHT5"
   },
   "outputs": [],
   "source": [
    "def test(epoch_iterator_test):\n",
    "    reg_model.eval()\n",
    "    cls_model.eval()\n",
    "    \n",
    "    dice_vals = list()\n",
    "    dice_vals_labels = [[], [], [], [], []]\n",
    "    \n",
    "    y_pre, y_true = [], []\n",
    "    inference_time = [[], [], [], [], []]\n",
    "    \n",
    "#     mapiou = [[], [], [], [], []]\n",
    "#     mapiou_fp = [[], [], [], [], []]\n",
    "    \n",
    "    with torch.no_grad():\n",
    "        for step, (images, boxes, labels) in enumerate(epoch_iterator_test):\n",
    "            step += 1\n",
    "            \n",
    "            # regression\n",
    "            val_images = images.to(device)\n",
    "            val_boxes = boxes.to(device)\n",
    "            val_labels =  labels.to(device)\n",
    "\n",
    "            val_out_bb = reg_model(val_images)    \n",
    "            val_loss = loss_function(val_out_bb, val_boxes)\n",
    "            \n",
    "            iou_acc = batch_IoU(val_boxes.cpu(), val_out_bb.detach().cpu(), val_images.detach().cpu())\n",
    "            print(iou_acc)\n",
    "            bbox_plot(val_boxes.cpu(), val_out_bb.detach().cpu(), iou_acc)\n",
    "            num_batch = len(labels)\n",
    "            for num in range(num_batch):\n",
    "                dice_vals_labels[val_labels.cpu()].append(iou_acc[num])\n",
    "                \n",
    "                    \n",
    "                \n",
    "            dice_vals.append(iou_acc)\n",
    "            \n",
    "            # classification\n",
    "            val_images2 = images.to(device)\n",
    "            val_labels2 =  labels.to(device)\n",
    "            val_labels2 = val_labels2.squeeze(dim=-1)\n",
    "            \n",
    "            # :TODO: predict time \n",
    "            start = time.time()\n",
    "            val_out_cls = cls_model(val_images2)   \n",
    "            preds_1d = val_out_cls.detach().cpu().flatten()\n",
    "            best_pred_class = [np.argmax(preds_1d)]\n",
    "            predict_time = time.time() - start\n",
    "            \n",
    "            for num in range(5):\n",
    "                if val_labels.cpu() == num:\n",
    "                    inference_time[num].append(predict_time)\n",
    "\n",
    "            y_pre.append(*best_pred_class)\n",
    "            y_true.append(*val_labels.cpu())\n",
    "            y_pre, y_true = rp_for_class(y_pre, y_true)\n",
    "            \n",
    "#             for num in range(num_batch):\n",
    "#                 dice_vals_labels[val_labels.cpu()].append(iou_acc[num])\n",
    "                \n",
    "#                 if iou_acc[num] >= 0.5:\n",
    "#                     mapiou[val_labels.cpu()].append(*best_pred_class)\n",
    "#                     mapiou_fp[val_labels.cpu()].append(*val_labels.cpu())\n",
    "            \n",
    "            \n",
    "            \n",
    "            if step%100==0:\n",
    "                epoch_iterator_test.set_description(\n",
    "                    \"Test (%d / %d Steps) (IoU=%2.5f)\" % (global_step, 10.0, np.mean(iou_acc))\n",
    "                )\n",
    "                  \n",
    "    mean_dice_val = np.mean(dice_vals)\n",
    "#     mean_dice_val_labels = np.mean(dice_vals_labels)\n",
    "    for i in range(5):\n",
    "        inference_time[i] = np.mean(inference_time[i])\n",
    "        dice_vals_labels[i] = np.mean(dice_vals_labels[i])\n",
    "    return mean_dice_val, dice_vals_labels, y_pre, y_true,inference_time, mapiou, mapiou_fp"
   ]
  },
  {
   "cell_type": "code",
   "execution_count": null,
   "metadata": {
    "executionInfo": {
     "elapsed": 524,
     "status": "ok",
     "timestamp": 1667417838080,
     "user": {
      "displayName": "Jaeseung Kim (성령)",
      "userId": "18232645392761887268"
     },
     "user_tz": -540
    },
    "id": "FTggmVZlEHT5"
   },
   "outputs": [],
   "source": [
    "import matplotlib.pyplot as plt\n",
    "import matplotlib.patches as patches\n",
    "\n",
    "def bbox_plot(a, b, iouval):\n",
    "    \n",
    "    rect = [a[0],\n",
    "            b[0]\n",
    "           ]\n",
    "    \n",
    "    plt.style.use('default')\n",
    "    plt.rcParams['figure.figsize'] = (5, 4)\n",
    "    plt.rcParams['font.size'] = 12\n",
    "    \n",
    "    fig, ax = plt.subplots()\n",
    "    color = ['green', 'red']\n",
    "    for idx, (x, y, w, h) in enumerate(rect):\n",
    "        ax.add_patch(\n",
    "            patches.Rectangle(\n",
    "                (x, y), w, h,\n",
    "                edgecolor= color[idx],\n",
    "                facecolor=None,\n",
    "                linewidth=0.5,\n",
    "                fill=False))\n",
    "    plt.title(f'{iouval}')\n",
    "\n",
    "    plt.show()"
   ]
  },
  {
   "cell_type": "markdown",
   "metadata": {
    "id": "eoOu-ZHWEHT5"
   },
   "source": [
    "## result"
   ]
  },
  {
   "cell_type": "code",
   "execution_count": null,
   "metadata": {
    "colab": {
     "base_uri": "https://localhost:8080/",
     "height": 1000
    },
    "executionInfo": {
     "elapsed": 76187,
     "status": "ok",
     "timestamp": 1667418123644,
     "user": {
      "displayName": "Jaeseung Kim (성령)",
      "userId": "18232645392761887268"
     },
     "user_tz": -540
    },
    "id": "o7n2KIGeEHT5",
    "outputId": "c8d25ea3-b522-4210-a25b-3976cc33211a",
    "scrolled": true
   },
   "outputs": [],
   "source": [
    "epoch_iterator_test = tqdm(test_loader, desc=\"Test (X / X Steps) (IoU=X.X)\", dynamic_ncols=True)\n",
    "\n",
    "score, score_labels, y_pre, y_true, inference_time, mapiou, mapiou_fp = test(epoch_iterator_test)"
   ]
  },
  {
   "cell_type": "code",
   "execution_count": null,
   "metadata": {
    "colab": {
     "base_uri": "https://localhost:8080/"
    },
    "executionInfo": {
     "elapsed": 850,
     "status": "ok",
     "timestamp": 1667418135369,
     "user": {
      "displayName": "Jaeseung Kim (성령)",
      "userId": "18232645392761887268"
     },
     "user_tz": -540
    },
    "id": "bRbiYVwJEHT5",
    "outputId": "e466eae4-f88f-4435-8ad2-2c296ae08378",
    "scrolled": true
   },
   "outputs": [],
   "source": [
    "precision = []\n",
    "recall = []\n",
    "\n",
    "# li_mapiou = []\n",
    "\n",
    "for i in range(5):\n",
    "    pre_val = precision_score(y_true[i], y_pre[i], labels=[0,1,2,3,4], average='micro')\n",
    "    recall_val = recall_score(y_true[i], y_pre[i], labels=[0,1,2,3,4], average='micro')\n",
    "    \n",
    "#     map_val = precision_score(mapiou[i], mapiou_fp[i], labels=[0,1,2,3,4], average='micro')\n",
    "#     li_mapiou.append(map_val)\n",
    "    \n",
    "    precision.append(pre_val)\n",
    "    recall.append(recall_val)"
   ]
  },
  {
   "cell_type": "code",
   "execution_count": null,
   "metadata": {
    "colab": {
     "base_uri": "https://localhost:8080/"
    },
    "executionInfo": {
     "elapsed": 535,
     "status": "ok",
     "timestamp": 1667418646651,
     "user": {
      "displayName": "Jaeseung Kim (성령)",
      "userId": "18232645392761887268"
     },
     "user_tz": -540
    },
    "id": "2k2rYCLp4y63",
    "outputId": "fe511919-7c67-47d9-a691-46be22267387"
   },
   "outputs": [],
   "source": [
    "print('precision : ', precision)\n",
    "print('recall : ', recall)\n",
    "print('inference_time : ', inference_time)\n",
    "print('score_labels : ', score_labels)"
   ]
  },
  {
   "cell_type": "code",
   "execution_count": null,
   "metadata": {
    "colab": {
     "base_uri": "https://localhost:8080/",
     "height": 418
    },
    "executionInfo": {
     "elapsed": 535,
     "status": "error",
     "timestamp": 1667418438272,
     "user": {
      "displayName": "Jaeseung Kim (성령)",
      "userId": "18232645392761887268"
     },
     "user_tz": -540
    },
    "id": "HNuWJhb_EHT6",
    "outputId": "853bd9f3-d6bf-4463-ea37-45849767e119"
   },
   "outputs": [],
   "source": [
    "data1 = {'index' : ['1 degree', '2 degree (superficial)', '2 degree (deep)', '3 degree', '4 degree'],\n",
    "        'mAP@IoU(0.5)' : ['','','','','',],\n",
    "        'IoU' : score_labels,\n",
    "        'Precision' : precision,\n",
    "        'Recall' : recall,\n",
    "        'Inference time(s)' : inference_time\n",
    "        }\n",
    "\n",
    "data2 = {\n",
    "    'index' : ['All class'],\n",
    "    'mAP@IoU(0.5)' : [''],\n",
    "    'IoU' : score,\n",
    "    'Precision' : np.mean(precision),\n",
    "    'Recall' : np.mean(recall),\n",
    "    'Inference time(s)' : np.mean(inference_time)\n",
    "}\n",
    "\n",
    "df1 = pd.DataFrame(data1)\n",
    "df1.set_index('index', inplace=True)   #name 열을 인덱스로 지정\n",
    "\n",
    "\n",
    "df2 = pd.DataFrame(data2)\n",
    "df2.set_index('index', inplace=True)   #name 열을 인덱스로 지정"
   ]
  },
  {
   "cell_type": "code",
   "execution_count": null,
   "metadata": {},
   "outputs": [],
   "source": [
    "df1"
   ]
  },
  {
   "cell_type": "code",
   "execution_count": null,
   "metadata": {},
   "outputs": [],
   "source": [
    "df2"
   ]
  },
  {
   "cell_type": "code",
   "execution_count": null,
   "metadata": {
    "executionInfo": {
     "elapsed": 8,
     "status": "aborted",
     "timestamp": 1667416395043,
     "user": {
      "displayName": "Jaeseung Kim (성령)",
      "userId": "18232645392761887268"
     },
     "user_tz": -540
    },
    "id": "6LieFxyHEHT6"
   },
   "outputs": [],
   "source": [
    "pd.concat([df1, df2]).to_csv('tec2result.csv') #csv파일로 생성"
   ]
  }
 ],
 "metadata": {
  "accelerator": "GPU",
  "colab": {
   "collapsed_sections": [
    "0id391jNEHTy",
    "LxHiSZdzEHT2"
   ],
   "provenance": [
    {
     "file_id": "1am72oDhHcXCc0tJADIIOZCbi0ogzFvEN",
     "timestamp": 1667419958962
    }
   ]
  },
  "gpuClass": "premium",
  "kernelspec": {
   "display_name": "Python 3 (ipykernel)",
   "language": "python",
   "name": "python3"
  },
  "language_info": {
   "codemirror_mode": {
    "name": "ipython",
    "version": 3
   },
   "file_extension": ".py",
   "mimetype": "text/x-python",
   "name": "python",
   "nbconvert_exporter": "python",
   "pygments_lexer": "ipython3",
   "version": "3.9.12"
  },
  "vscode": {
   "interpreter": {
    "hash": "b1a889c228bff77e322965ed0714ccc279556ab4f636082a524aa2cec2bfa87a"
   }
  },
  "widgets": {
   "application/vnd.jupyter.widget-state+json": {
    "0207410e4270418ab6f9d465ca33331c": {
     "model_module": "@jupyter-widgets/base",
     "model_module_version": "1.2.0",
     "model_name": "LayoutModel",
     "state": {
      "_model_module": "@jupyter-widgets/base",
      "_model_module_version": "1.2.0",
      "_model_name": "LayoutModel",
      "_view_count": null,
      "_view_module": "@jupyter-widgets/base",
      "_view_module_version": "1.2.0",
      "_view_name": "LayoutView",
      "align_content": null,
      "align_items": null,
      "align_self": null,
      "border": null,
      "bottom": null,
      "display": null,
      "flex": null,
      "flex_flow": null,
      "grid_area": null,
      "grid_auto_columns": null,
      "grid_auto_flow": null,
      "grid_auto_rows": null,
      "grid_column": null,
      "grid_gap": null,
      "grid_row": null,
      "grid_template_areas": null,
      "grid_template_columns": null,
      "grid_template_rows": null,
      "height": null,
      "justify_content": null,
      "justify_items": null,
      "left": null,
      "margin": null,
      "max_height": null,
      "max_width": null,
      "min_height": null,
      "min_width": null,
      "object_fit": null,
      "object_position": null,
      "order": null,
      "overflow": null,
      "overflow_x": null,
      "overflow_y": null,
      "padding": null,
      "right": null,
      "top": null,
      "visibility": null,
      "width": null
     }
    },
    "0d5d18b125f0436c9dc05d3b37f22c1c": {
     "model_module": "@jupyter-widgets/controls",
     "model_module_version": "1.5.0",
     "model_name": "DescriptionStyleModel",
     "state": {
      "_model_module": "@jupyter-widgets/controls",
      "_model_module_version": "1.5.0",
      "_model_name": "DescriptionStyleModel",
      "_view_count": null,
      "_view_module": "@jupyter-widgets/base",
      "_view_module_version": "1.2.0",
      "_view_name": "StyleView",
      "description_width": ""
     }
    },
    "385cf41e5842474982e9552ee6444c2e": {
     "model_module": "@jupyter-widgets/base",
     "model_module_version": "1.2.0",
     "model_name": "LayoutModel",
     "state": {
      "_model_module": "@jupyter-widgets/base",
      "_model_module_version": "1.2.0",
      "_model_name": "LayoutModel",
      "_view_count": null,
      "_view_module": "@jupyter-widgets/base",
      "_view_module_version": "1.2.0",
      "_view_name": "LayoutView",
      "align_content": null,
      "align_items": null,
      "align_self": null,
      "border": null,
      "bottom": null,
      "display": null,
      "flex": null,
      "flex_flow": null,
      "grid_area": null,
      "grid_auto_columns": null,
      "grid_auto_flow": null,
      "grid_auto_rows": null,
      "grid_column": null,
      "grid_gap": null,
      "grid_row": null,
      "grid_template_areas": null,
      "grid_template_columns": null,
      "grid_template_rows": null,
      "height": null,
      "justify_content": null,
      "justify_items": null,
      "left": null,
      "margin": null,
      "max_height": null,
      "max_width": null,
      "min_height": null,
      "min_width": null,
      "object_fit": null,
      "object_position": null,
      "order": null,
      "overflow": null,
      "overflow_x": null,
      "overflow_y": null,
      "padding": null,
      "right": null,
      "top": null,
      "visibility": null,
      "width": null
     }
    },
    "3d170e40c6a3453a9aebc75a0f6821b0": {
     "model_module": "@jupyter-widgets/controls",
     "model_module_version": "1.5.0",
     "model_name": "DescriptionStyleModel",
     "state": {
      "_model_module": "@jupyter-widgets/controls",
      "_model_module_version": "1.5.0",
      "_model_name": "DescriptionStyleModel",
      "_view_count": null,
      "_view_module": "@jupyter-widgets/base",
      "_view_module_version": "1.2.0",
      "_view_name": "StyleView",
      "description_width": ""
     }
    },
    "5cb7fbd5759a445aa36cbf2f2d22d3d0": {
     "model_module": "@jupyter-widgets/controls",
     "model_module_version": "1.5.0",
     "model_name": "HTMLModel",
     "state": {
      "_dom_classes": [],
      "_model_module": "@jupyter-widgets/controls",
      "_model_module_version": "1.5.0",
      "_model_name": "HTMLModel",
      "_view_count": null,
      "_view_module": "@jupyter-widgets/controls",
      "_view_module_version": "1.5.0",
      "_view_name": "HTMLView",
      "description": "",
      "description_tooltip": null,
      "layout": "IPY_MODEL_64703debe3664680abdacf1c0c34f2c6",
      "placeholder": "​",
      "style": "IPY_MODEL_3d170e40c6a3453a9aebc75a0f6821b0",
      "value": " 83.3M/83.3M [00:00&lt;00:00, 287MB/s]"
     }
    },
    "64703debe3664680abdacf1c0c34f2c6": {
     "model_module": "@jupyter-widgets/base",
     "model_module_version": "1.2.0",
     "model_name": "LayoutModel",
     "state": {
      "_model_module": "@jupyter-widgets/base",
      "_model_module_version": "1.2.0",
      "_model_name": "LayoutModel",
      "_view_count": null,
      "_view_module": "@jupyter-widgets/base",
      "_view_module_version": "1.2.0",
      "_view_name": "LayoutView",
      "align_content": null,
      "align_items": null,
      "align_self": null,
      "border": null,
      "bottom": null,
      "display": null,
      "flex": null,
      "flex_flow": null,
      "grid_area": null,
      "grid_auto_columns": null,
      "grid_auto_flow": null,
      "grid_auto_rows": null,
      "grid_column": null,
      "grid_gap": null,
      "grid_row": null,
      "grid_template_areas": null,
      "grid_template_columns": null,
      "grid_template_rows": null,
      "height": null,
      "justify_content": null,
      "justify_items": null,
      "left": null,
      "margin": null,
      "max_height": null,
      "max_width": null,
      "min_height": null,
      "min_width": null,
      "object_fit": null,
      "object_position": null,
      "order": null,
      "overflow": null,
      "overflow_x": null,
      "overflow_y": null,
      "padding": null,
      "right": null,
      "top": null,
      "visibility": null,
      "width": null
     }
    },
    "89e9dcdf06fc410cb681f0c20992f373": {
     "model_module": "@jupyter-widgets/base",
     "model_module_version": "1.2.0",
     "model_name": "LayoutModel",
     "state": {
      "_model_module": "@jupyter-widgets/base",
      "_model_module_version": "1.2.0",
      "_model_name": "LayoutModel",
      "_view_count": null,
      "_view_module": "@jupyter-widgets/base",
      "_view_module_version": "1.2.0",
      "_view_name": "LayoutView",
      "align_content": null,
      "align_items": null,
      "align_self": null,
      "border": null,
      "bottom": null,
      "display": null,
      "flex": null,
      "flex_flow": null,
      "grid_area": null,
      "grid_auto_columns": null,
      "grid_auto_flow": null,
      "grid_auto_rows": null,
      "grid_column": null,
      "grid_gap": null,
      "grid_row": null,
      "grid_template_areas": null,
      "grid_template_columns": null,
      "grid_template_rows": null,
      "height": null,
      "justify_content": null,
      "justify_items": null,
      "left": null,
      "margin": null,
      "max_height": null,
      "max_width": null,
      "min_height": null,
      "min_width": null,
      "object_fit": null,
      "object_position": null,
      "order": null,
      "overflow": null,
      "overflow_x": null,
      "overflow_y": null,
      "padding": null,
      "right": null,
      "top": null,
      "visibility": null,
      "width": null
     }
    },
    "94f65da770cc43958760571158e467f7": {
     "model_module": "@jupyter-widgets/controls",
     "model_module_version": "1.5.0",
     "model_name": "HTMLModel",
     "state": {
      "_dom_classes": [],
      "_model_module": "@jupyter-widgets/controls",
      "_model_module_version": "1.5.0",
      "_model_name": "HTMLModel",
      "_view_count": null,
      "_view_module": "@jupyter-widgets/controls",
      "_view_module_version": "1.5.0",
      "_view_name": "HTMLView",
      "description": "",
      "description_tooltip": null,
      "layout": "IPY_MODEL_385cf41e5842474982e9552ee6444c2e",
      "placeholder": "​",
      "style": "IPY_MODEL_0d5d18b125f0436c9dc05d3b37f22c1c",
      "value": "100%"
     }
    },
    "e0d3d0676cc04af2a0f437693ac841e8": {
     "model_module": "@jupyter-widgets/controls",
     "model_module_version": "1.5.0",
     "model_name": "FloatProgressModel",
     "state": {
      "_dom_classes": [],
      "_model_module": "@jupyter-widgets/controls",
      "_model_module_version": "1.5.0",
      "_model_name": "FloatProgressModel",
      "_view_count": null,
      "_view_module": "@jupyter-widgets/controls",
      "_view_module_version": "1.5.0",
      "_view_name": "ProgressView",
      "bar_style": "success",
      "description": "",
      "description_tooltip": null,
      "layout": "IPY_MODEL_89e9dcdf06fc410cb681f0c20992f373",
      "max": 87319819,
      "min": 0,
      "orientation": "horizontal",
      "style": "IPY_MODEL_f7d9915018a34a33bbe3de41bdf092d0",
      "value": 87319819
     }
    },
    "f7d9915018a34a33bbe3de41bdf092d0": {
     "model_module": "@jupyter-widgets/controls",
     "model_module_version": "1.5.0",
     "model_name": "ProgressStyleModel",
     "state": {
      "_model_module": "@jupyter-widgets/controls",
      "_model_module_version": "1.5.0",
      "_model_name": "ProgressStyleModel",
      "_view_count": null,
      "_view_module": "@jupyter-widgets/base",
      "_view_module_version": "1.2.0",
      "_view_name": "StyleView",
      "bar_color": null,
      "description_width": ""
     }
    },
    "fa0611ffd6ac447e993c8d0695a255d3": {
     "model_module": "@jupyter-widgets/controls",
     "model_module_version": "1.5.0",
     "model_name": "HBoxModel",
     "state": {
      "_dom_classes": [],
      "_model_module": "@jupyter-widgets/controls",
      "_model_module_version": "1.5.0",
      "_model_name": "HBoxModel",
      "_view_count": null,
      "_view_module": "@jupyter-widgets/controls",
      "_view_module_version": "1.5.0",
      "_view_name": "HBoxView",
      "box_style": "",
      "children": [
       "IPY_MODEL_94f65da770cc43958760571158e467f7",
       "IPY_MODEL_e0d3d0676cc04af2a0f437693ac841e8",
       "IPY_MODEL_5cb7fbd5759a445aa36cbf2f2d22d3d0"
      ],
      "layout": "IPY_MODEL_0207410e4270418ab6f9d465ca33331c"
     }
    }
   }
  }
 },
 "nbformat": 4,
 "nbformat_minor": 1
}
